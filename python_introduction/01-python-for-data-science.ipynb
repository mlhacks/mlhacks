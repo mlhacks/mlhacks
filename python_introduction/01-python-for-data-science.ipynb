{
 "cells": [
  {
   "cell_type": "markdown",
   "metadata": {},
   "source": [
    "# 01-Introduction to Python for general usage\n",
    "\n",
    "#### This notebook demonstrates the basic programming required for general usage if the chosen language is Python."
   ]
  },
  {
   "cell_type": "markdown",
   "metadata": {},
   "source": [
    "### Table of Contents\n",
    "* [01 - Variables and Datatypes](#variables)\n",
    "* [02 - List and Array (denoted by [....])](#lists)\n",
    "* [03 - Dictionary (Hash table) (Denoted by {...})](#dict)\n",
    "* [04 - Arithmetic Operations](#arithmetic)\n",
    "* [05 - Logical operations](#logical-operations)\n",
    "* [06 - Conditional Statements](#conditional)\n",
    "* [07 - Loop Statements](#loops)\n",
    "* [08 - Error Handling using try and except blocks](#error-handling)\n",
    "* [09 - Functions](#functions)\n"
   ]
  },
  {
   "cell_type": "markdown",
   "metadata": {},
   "source": [
    "### 01 - Variables, datatypes <a class=\"anchor\" id=\"variables\"></a>"
   ]
  },
  {
   "cell_type": "code",
   "execution_count": 1,
   "metadata": {},
   "outputs": [],
   "source": [
    "x = 1  # assign value 1 to variable `x`\n",
    "y = \"hello\"\n",
    "z = 3.12"
   ]
  },
  {
   "cell_type": "code",
   "execution_count": 2,
   "metadata": {},
   "outputs": [],
   "source": [
    "x, y, z = 1, \"hello\", 3.12  # same as above"
   ]
  },
  {
   "cell_type": "code",
   "execution_count": 3,
   "metadata": {},
   "outputs": [
    {
     "data": {
      "text/plain": [
       "(int, str, float)"
      ]
     },
     "execution_count": 3,
     "metadata": {},
     "output_type": "execute_result"
    }
   ],
   "source": [
    "type(x), type(y), type(z)  # print datatype"
   ]
  },
  {
   "cell_type": "markdown",
   "metadata": {},
   "source": [
    "### 02 - List and Array (denoted by [....]) <a class=\"anchor\" id=\"lists\"></a>"
   ]
  },
  {
   "cell_type": "code",
   "execution_count": 4,
   "metadata": {},
   "outputs": [
    {
     "name": "stdout",
     "output_type": "stream",
     "text": [
      "[1, 2, 3, 4, 5]\n",
      "[1, 2, 'hello', 2.3456, True]\n"
     ]
    }
   ],
   "source": [
    "a1 = [1,2,3,4,5]  # Homogenous list of Integers. Also called Array. Array is Homogenous.\n",
    "a2 = [1,2,\"hello\",2.3456,True]  # Heterogenous list. Mix of Integer, String, Float and Boolean\n",
    "print(a1)\n",
    "print(a2)"
   ]
  },
  {
   "cell_type": "code",
   "execution_count": 5,
   "metadata": {},
   "outputs": [
    {
     "data": {
      "text/plain": [
       "[0, 1, 2, 3, 4, 5, 6, 7, 8, 9]"
      ]
     },
     "execution_count": 5,
     "metadata": {},
     "output_type": "execute_result"
    }
   ],
   "source": [
    "a3 = [i for i in range(10)] # generate a list of int values over a given range\n",
    "a3"
   ]
  },
  {
   "cell_type": "markdown",
   "metadata": {},
   "source": [
    "##### Get help on any Python function documentation "
   ]
  },
  {
   "cell_type": "code",
   "execution_count": 6,
   "metadata": {},
   "outputs": [
    {
     "data": {
      "text/plain": [
       "\u001b[0;31mInit signature:\u001b[0m \u001b[0mrange\u001b[0m\u001b[0;34m(\u001b[0m\u001b[0mself\u001b[0m\u001b[0;34m,\u001b[0m \u001b[0;34m/\u001b[0m\u001b[0;34m,\u001b[0m \u001b[0;34m*\u001b[0m\u001b[0margs\u001b[0m\u001b[0;34m,\u001b[0m \u001b[0;34m**\u001b[0m\u001b[0mkwargs\u001b[0m\u001b[0;34m)\u001b[0m\u001b[0;34m\u001b[0m\u001b[0;34m\u001b[0m\u001b[0m\n",
       "\u001b[0;31mDocstring:\u001b[0m     \n",
       "range(stop) -> range object\n",
       "range(start, stop[, step]) -> range object\n",
       "\n",
       "Return an object that produces a sequence of integers from start (inclusive)\n",
       "to stop (exclusive) by step.  range(i, j) produces i, i+1, i+2, ..., j-1.\n",
       "start defaults to 0, and stop is omitted!  range(4) produces 0, 1, 2, 3.\n",
       "These are exactly the valid indices for a list of 4 elements.\n",
       "When step is given, it specifies the increment (or decrement).\n",
       "\u001b[0;31mType:\u001b[0m           type\n",
       "\u001b[0;31mSubclasses:\u001b[0m     \n"
      ]
     },
     "metadata": {},
     "output_type": "display_data"
    }
   ],
   "source": [
    "# get help on any python function by prefixing with `?`. In this example `range`. This only works in Jupyter notebook.\n",
    "?range"
   ]
  },
  {
   "cell_type": "code",
   "execution_count": 7,
   "metadata": {},
   "outputs": [
    {
     "data": {
      "text/plain": [
       "'hello'"
      ]
     },
     "execution_count": 7,
     "metadata": {},
     "output_type": "execute_result"
    }
   ],
   "source": [
    "a2[2]  # access the value in 2nd index of list `a2`"
   ]
  },
  {
   "cell_type": "markdown",
   "metadata": {},
   "source": [
    "### 03 - Dictionary (Hash table) (Denoted by {...}) <a class=\"anchor\" id=\"dict\"></a>"
   ]
  },
  {
   "cell_type": "code",
   "execution_count": 8,
   "metadata": {},
   "outputs": [
    {
     "name": "stdout",
     "output_type": "stream",
     "text": [
      "{'key1': 'value1', 'key2': 'value2'}\n",
      "<class 'dict'>\n"
     ]
    }
   ],
   "source": [
    "d1 = {\"key1\": \"value1\", \"key2\":\"value2\"}  # dictionary is nothing but 1 or more key:value pairs. In JSON format.\n",
    "print(d1)\n",
    "print(type(d1))"
   ]
  },
  {
   "cell_type": "code",
   "execution_count": 9,
   "metadata": {},
   "outputs": [
    {
     "data": {
      "text/plain": [
       "'v3'"
      ]
     },
     "execution_count": 9,
     "metadata": {},
     "output_type": "execute_result"
    }
   ],
   "source": [
    "d2 = {\"k1\":\"v1\",\"k2\":\"v2\",\"k3\":\"v3\",\"k4\":\"v4\",\"k5\":\"v5\",\"k6\":\"v6\"}\n",
    "d2[\"k3\"]  # print the value associated with key `k3`"
   ]
  },
  {
   "cell_type": "markdown",
   "metadata": {},
   "source": [
    "### 04 - Arithmetic Operations <a class=\"anchor\" id=\"arithmetic\"></a>"
   ]
  },
  {
   "cell_type": "markdown",
   "metadata": {},
   "source": [
    "##### Arithmentic operations on basic datatypes"
   ]
  },
  {
   "cell_type": "code",
   "execution_count": 10,
   "metadata": {},
   "outputs": [
    {
     "name": "stdout",
     "output_type": "stream",
     "text": [
      "Addition: 15\n",
      "Multiplication: 50\n",
      "Subtraction: -5\n",
      "Division: 0.5\n"
     ]
    }
   ],
   "source": [
    "a, b = 5, 10  # value assignment\n",
    "print(\"Addition:\", a+b)\n",
    "print(\"Multiplication:\", a*b)\n",
    "print(\"Subtraction:\", a-b)\n",
    "print(\"Division:\", a/b)"
   ]
  },
  {
   "cell_type": "markdown",
   "metadata": {},
   "source": [
    "##### Arithmetic operations on Lists"
   ]
  },
  {
   "cell_type": "code",
   "execution_count": 11,
   "metadata": {},
   "outputs": [
    {
     "name": "stdout",
     "output_type": "stream",
     "text": [
      "[1, 2, 3, 4, 5, 'hello', 6, 7, 8, 9, 10]\n"
     ]
    }
   ],
   "source": [
    "a1 = [1,2,3,4,5,\"hello\"]\n",
    "a2=[6,7,8,9,10]\n",
    "print(a1+a2)  # add 2 lists"
   ]
  },
  {
   "cell_type": "code",
   "execution_count": 12,
   "metadata": {},
   "outputs": [
    {
     "ename": "TypeError",
     "evalue": "unsupported operand type(s) for -: 'list' and 'list'",
     "output_type": "error",
     "traceback": [
      "\u001b[0;31m---------------------------------------------------------------------------\u001b[0m",
      "\u001b[0;31mTypeError\u001b[0m                                 Traceback (most recent call last)",
      "\u001b[0;32m<ipython-input-12-e9b0222b898b>\u001b[0m in \u001b[0;36m<module>\u001b[0;34m\u001b[0m\n\u001b[0;32m----> 1\u001b[0;31m \u001b[0mprint\u001b[0m\u001b[0;34m(\u001b[0m\u001b[0ma1\u001b[0m\u001b[0;34m-\u001b[0m\u001b[0ma2\u001b[0m\u001b[0;34m)\u001b[0m  \u001b[0;31m# List subtract does not work\u001b[0m\u001b[0;34m\u001b[0m\u001b[0;34m\u001b[0m\u001b[0m\n\u001b[0m",
      "\u001b[0;31mTypeError\u001b[0m: unsupported operand type(s) for -: 'list' and 'list'"
     ]
    }
   ],
   "source": [
    "print(a1-a2)  # List subtract does not work"
   ]
  },
  {
   "cell_type": "code",
   "execution_count": 13,
   "metadata": {},
   "outputs": [
    {
     "name": "stdout",
     "output_type": "stream",
     "text": [
      "List a3:  {1, 4, 5} Type:  <class 'set'>\n",
      "List a3:  [1, 4, 5] Type:  <class 'list'>\n"
     ]
    }
   ],
   "source": [
    "# List subtract works as follows\n",
    "a1 = [1,2,3,4,5]\n",
    "a2 = [2,3]\n",
    "\n",
    "a3 = set(a1) - set(a2)  # a3 is stored as `set` type. `set` type does not allow duplicates.\n",
    "\n",
    "print(\"List a3: \", a3, \"Type: \", type(a3))\n",
    "\n",
    "a3 = list(a3)  # Convert set to list type.\n",
    "print(\"List a3: \", a3, \"Type: \", type(a3))"
   ]
  },
  {
   "cell_type": "code",
   "execution_count": 14,
   "metadata": {},
   "outputs": [
    {
     "data": {
      "text/plain": [
       "[1, 2, 2, 5, 7, 8]"
      ]
     },
     "execution_count": 14,
     "metadata": {},
     "output_type": "execute_result"
    }
   ],
   "source": [
    "a1 = [2,5,1,7,2,8]\n",
    "sorted(a1, reverse=False)  # Sort the list in ascending order. To sort in descending, set `reverse=True`."
   ]
  },
  {
   "cell_type": "markdown",
   "metadata": {},
   "source": [
    "### 05 - Logical operations <a class=\"anchor\" id=\"logical-operations\"></a>"
   ]
  },
  {
   "cell_type": "code",
   "execution_count": 15,
   "metadata": {},
   "outputs": [
    {
     "name": "stdout",
     "output_type": "stream",
     "text": [
      "False\n",
      "True\n",
      "False\n",
      "False\n",
      "True\n"
     ]
    }
   ],
   "source": [
    "a, b = 5, 10\n",
    "print(a == b)  # check if a is equal to b\n",
    "print(a != b)  # check if a is not equal to b\n",
    "print(a > b)   # check if a is greater than b\n",
    "print(a >= b)  # check if a is greater than or equal to b\n",
    "print(a < b)   # check if a is less than b"
   ]
  },
  {
   "cell_type": "markdown",
   "metadata": {},
   "source": [
    "### 06 - Conditional Statements <a class=\"anchor\" id=\"conditional\"></a>"
   ]
  },
  {
   "cell_type": "code",
   "execution_count": 16,
   "metadata": {},
   "outputs": [
    {
     "name": "stdout",
     "output_type": "stream",
     "text": [
      "5 != 10\n"
     ]
    }
   ],
   "source": [
    "a, b = 5, 10\n",
    "if a == b:\n",
    "    print(f\"{a} == {b}\")  # Python f strings: f\"...{variable}...\"\n",
    "else:\n",
    "    print(f\"{a} != {b}\")"
   ]
  },
  {
   "cell_type": "code",
   "execution_count": 17,
   "metadata": {},
   "outputs": [
    {
     "name": "stdout",
     "output_type": "stream",
     "text": [
      "5 != 10\n"
     ]
    }
   ],
   "source": [
    "print(f\"{a} == {b}\") if a == b else print(f\"{a} != {b}\") # same as above cell"
   ]
  },
  {
   "cell_type": "code",
   "execution_count": 18,
   "metadata": {},
   "outputs": [
    {
     "name": "stdout",
     "output_type": "stream",
     "text": [
      "5 is less than 10\n"
     ]
    }
   ],
   "source": [
    "# Use logical operations in conditional statements\n",
    "if a < b:\n",
    "    print(f\"{a} is less than {b}\")\n",
    "elif a > b:\n",
    "    print(f\"{a} is greater than {b}\")\n",
    "else:\n",
    "    print(f\"{a} is equal to {b}\")"
   ]
  },
  {
   "cell_type": "markdown",
   "metadata": {},
   "source": [
    "### 07 - Loops <a class=\"anchor\" id=\"loops\"></a>"
   ]
  },
  {
   "cell_type": "code",
   "execution_count": 19,
   "metadata": {},
   "outputs": [
    {
     "name": "stdout",
     "output_type": "stream",
     "text": [
      "0\n",
      "1\n",
      "2\n",
      "3\n",
      "4\n"
     ]
    }
   ],
   "source": [
    "for i in range(5):  # print value of `i` 5 times. Ranging from 0...4\n",
    "    print(i)"
   ]
  },
  {
   "cell_type": "code",
   "execution_count": 20,
   "metadata": {},
   "outputs": [
    {
     "data": {
      "text/plain": [
       "[0, 1, 2, 3, 4, 5, 6, 7, 8, 9]"
      ]
     },
     "execution_count": 20,
     "metadata": {},
     "output_type": "execute_result"
    }
   ],
   "source": [
    "l1 = [i for i in range(10)]  # prepare a list of values using for loop\n",
    "l1"
   ]
  },
  {
   "cell_type": "code",
   "execution_count": 21,
   "metadata": {},
   "outputs": [
    {
     "name": "stdout",
     "output_type": "stream",
     "text": [
      "1\n",
      "2\n",
      "hello\n",
      "2.3456\n",
      "True\n"
     ]
    }
   ],
   "source": [
    "a2 = [1,2,\"hello\",2.3456,True]\n",
    "\n",
    "# iterate over a list and print all items\n",
    "for item in a2:\n",
    "    print(item)"
   ]
  },
  {
   "cell_type": "code",
   "execution_count": 22,
   "metadata": {},
   "outputs": [
    {
     "name": "stdout",
     "output_type": "stream",
     "text": [
      "k1 : v1\n",
      "k2 : v2\n",
      "k3 : v3\n",
      "k4 : v4\n",
      "k5 : v5\n",
      "k6 : v6\n"
     ]
    }
   ],
   "source": [
    "d2 = {\"k1\":\"v1\",\"k2\":\"v2\",\"k3\":\"v3\",\"k4\":\"v4\",\"k5\":\"v5\",\"k6\":\"v6\"}\n",
    "\n",
    "# iterate over key and value pairs in a dictionary\n",
    "for key in d2:\n",
    "    print(key, \":\", d2[key])"
   ]
  },
  {
   "cell_type": "markdown",
   "metadata": {},
   "source": [
    "### 08 - Error Handling using try and except blocks <a class=\"anchor\" id=\"error-handling\"></a>"
   ]
  },
  {
   "cell_type": "code",
   "execution_count": 23,
   "metadata": {},
   "outputs": [
    {
     "ename": "ZeroDivisionError",
     "evalue": "division by zero",
     "output_type": "error",
     "traceback": [
      "\u001b[0;31m---------------------------------------------------------------------------\u001b[0m",
      "\u001b[0;31mZeroDivisionError\u001b[0m                         Traceback (most recent call last)",
      "\u001b[0;32m<ipython-input-23-1503d4d50caa>\u001b[0m in \u001b[0;36m<module>\u001b[0;34m\u001b[0m\n\u001b[0;32m----> 1\u001b[0;31m \u001b[0mprint\u001b[0m\u001b[0;34m(\u001b[0m\u001b[0;36m1\u001b[0m\u001b[0;34m/\u001b[0m\u001b[0;36m0\u001b[0m\u001b[0;34m)\u001b[0m  \u001b[0;31m# Example of an error such as Divide by Zero\u001b[0m\u001b[0;34m\u001b[0m\u001b[0;34m\u001b[0m\u001b[0m\n\u001b[0m",
      "\u001b[0;31mZeroDivisionError\u001b[0m: division by zero"
     ]
    }
   ],
   "source": [
    "print(1/0)  # Example of an error such as Divide by Zero"
   ]
  },
  {
   "cell_type": "code",
   "execution_count": 24,
   "metadata": {},
   "outputs": [
    {
     "name": "stdout",
     "output_type": "stream",
     "text": [
      "The error is caught. The error is: division by zero\n"
     ]
    }
   ],
   "source": [
    "try:  # try block. Place potential faulty code in here which is prone to generating errors.\n",
    "    print(1/0)\n",
    "except Exception as e:  # Catch the exception occurred in the try block and treat it appropriately.\n",
    "    print(f\"The error is caught. The error is: {e}\")"
   ]
  },
  {
   "cell_type": "markdown",
   "metadata": {},
   "source": [
    "### 09 - Functions <a class=\"anchor\" id=\"functions\"></a>"
   ]
  },
  {
   "cell_type": "markdown",
   "metadata": {},
   "source": [
    "#### Example function block structure\n",
    "     def function_name(arg1, arg2, ..., argn, *args <optional>, *kwargs <optional>):\n",
    "         # write code below\n",
    "         <code block>\n",
    "         return  # if no return value\n",
    "         return ret_val1, ret_val2, ..., ret_valn  # if n return values\n",
    "         \n",
    "#### Function calls\n",
    "     Function calls can be made from any location in the code as shown below.\n",
    "     \n",
    "     function_name(arg1, arg2, ..., argn)\n",
    "\n",
    "    "
   ]
  },
  {
   "cell_type": "code",
   "execution_count": 25,
   "metadata": {},
   "outputs": [],
   "source": [
    "# Example of a basic function\n",
    "\n",
    "def basic_calculator(op_type, operand1, operand2):\n",
    "    if op_type == \"add\":\n",
    "        result = operand1 + operand2\n",
    "    elif op_type == \"sub\":\n",
    "        result = operand1 - operand2\n",
    "    elif op_type == \"mul\":\n",
    "        result = operand1 * operand2\n",
    "    elif op_type == \"div\":\n",
    "        result = operand1 / operand2\n",
    "    elif op_type == \"mod\":\n",
    "        result = operand1 % operand2\n",
    "    elif op_type == None or op_type == \"\":\n",
    "        raise ValueError(\"op_type is not specified.\")\n",
    "    return result"
   ]
  },
  {
   "cell_type": "code",
   "execution_count": 26,
   "metadata": {},
   "outputs": [
    {
     "name": "stdout",
     "output_type": "stream",
     "text": [
      "Addition of 10 + 20 = 30\n",
      "Subtraction of 10 - 20 = -10\n",
      "Multiplication of 10 * 20 = 200\n",
      "Division of 10 / 20 = 0.5\n"
     ]
    }
   ],
   "source": [
    "op1, op2 = 10, 20 \n",
    "val = basic_calculator(\"add\", op1, op2)  # function call\n",
    "print(f\"Addition of {op1} + {op2} = {val}\")\n",
    "\n",
    "val = basic_calculator(op_type=\"sub\", operand1=op1, operand2=op2)  # function call same as above. Can rearrange the argument order if specified arg_name=value. \n",
    "print(f\"Subtraction of {op1} - {op2} = {val}\")\n",
    "\n",
    "val = basic_calculator(operand2=op2, operand1=op1, op_type=\"mul\")  # function call. Arguments order rearranged.\n",
    "print(f\"Multiplication of {op1} * {op2} = {val}\")\n",
    "\n",
    "val = basic_calculator(\"div\", op1, op2)  # function call\n",
    "print(f\"Division of {op1} / {op2} = {val}\")"
   ]
  },
  {
   "cell_type": "code",
   "execution_count": 27,
   "metadata": {},
   "outputs": [
    {
     "ename": "ValueError",
     "evalue": "op_type is not specified.",
     "output_type": "error",
     "traceback": [
      "\u001b[0;31m---------------------------------------------------------------------------\u001b[0m",
      "\u001b[0;31mValueError\u001b[0m                                Traceback (most recent call last)",
      "\u001b[0;32m<ipython-input-27-9a68b376df80>\u001b[0m in \u001b[0;36m<module>\u001b[0;34m\u001b[0m\n\u001b[0;32m----> 1\u001b[0;31m \u001b[0mval\u001b[0m \u001b[0;34m=\u001b[0m \u001b[0mbasic_calculator\u001b[0m\u001b[0;34m(\u001b[0m\u001b[0;34m\"\"\u001b[0m\u001b[0;34m,\u001b[0m \u001b[0mop1\u001b[0m\u001b[0;34m,\u001b[0m \u001b[0mop2\u001b[0m\u001b[0;34m)\u001b[0m\u001b[0;34m\u001b[0m\u001b[0;34m\u001b[0m\u001b[0m\n\u001b[0m",
      "\u001b[0;32m<ipython-input-25-a66613dc83e7>\u001b[0m in \u001b[0;36mbasic_calculator\u001b[0;34m(op_type, operand1, operand2)\u001b[0m\n\u001b[1;32m     13\u001b[0m         \u001b[0mresult\u001b[0m \u001b[0;34m=\u001b[0m \u001b[0moperand1\u001b[0m \u001b[0;34m%\u001b[0m \u001b[0moperand2\u001b[0m\u001b[0;34m\u001b[0m\u001b[0;34m\u001b[0m\u001b[0m\n\u001b[1;32m     14\u001b[0m     \u001b[0;32melif\u001b[0m \u001b[0mop_type\u001b[0m \u001b[0;34m==\u001b[0m \u001b[0;32mNone\u001b[0m \u001b[0;32mor\u001b[0m \u001b[0mop_type\u001b[0m \u001b[0;34m==\u001b[0m \u001b[0;34m\"\"\u001b[0m\u001b[0;34m:\u001b[0m\u001b[0;34m\u001b[0m\u001b[0;34m\u001b[0m\u001b[0m\n\u001b[0;32m---> 15\u001b[0;31m         \u001b[0;32mraise\u001b[0m \u001b[0mValueError\u001b[0m\u001b[0;34m(\u001b[0m\u001b[0;34m\"op_type is not specified.\"\u001b[0m\u001b[0;34m)\u001b[0m\u001b[0;34m\u001b[0m\u001b[0;34m\u001b[0m\u001b[0m\n\u001b[0m\u001b[1;32m     16\u001b[0m     \u001b[0;32mreturn\u001b[0m \u001b[0mresult\u001b[0m\u001b[0;34m\u001b[0m\u001b[0;34m\u001b[0m\u001b[0m\n",
      "\u001b[0;31mValueError\u001b[0m: op_type is not specified."
     ]
    }
   ],
   "source": [
    "val = basic_calculator(\"\", op1, op2)"
   ]
  },
  {
   "cell_type": "code",
   "execution_count": 28,
   "metadata": {},
   "outputs": [
    {
     "name": "stdout",
     "output_type": "stream",
     "text": [
      "op_type is not specified.\n"
     ]
    }
   ],
   "source": [
    "try:\n",
    "    val = basic_calculator(\"\", op1, op2)\n",
    "except Exception as e:\n",
    "    print(e)"
   ]
  },
  {
   "cell_type": "code",
   "execution_count": null,
   "metadata": {},
   "outputs": [],
   "source": []
  }
 ],
 "metadata": {
  "kernelspec": {
   "display_name": "Python 3",
   "language": "python",
   "name": "python3"
  },
  "language_info": {
   "codemirror_mode": {
    "name": "ipython",
    "version": 3
   },
   "file_extension": ".py",
   "mimetype": "text/x-python",
   "name": "python",
   "nbconvert_exporter": "python",
   "pygments_lexer": "ipython3",
   "version": "3.7.3"
  }
 },
 "nbformat": 4,
 "nbformat_minor": 4
}
